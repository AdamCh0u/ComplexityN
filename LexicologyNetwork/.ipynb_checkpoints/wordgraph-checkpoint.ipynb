{
 "cells": [
  {
   "cell_type": "code",
   "execution_count": 2,
   "metadata": {},
   "outputs": [],
   "source": [
    "import networkx as nx\n",
    "import numpy as np\n",
    "import matplotlib.pyplot as plt\n",
    "import pandas as pd\n",
    "import os"
   ]
  },
  {
   "cell_type": "markdown",
   "metadata": {},
   "source": [
    "# 单词网络"
   ]
  },
  {
   "cell_type": "markdown",
   "metadata": {},
   "source": [
    "构建一个以单词为节点，单词词性为节点颜色，单词联系方式为边权重或颜色的图"
   ]
  },
  {
   "cell_type": "markdown",
   "metadata": {},
   "source": [
    "词根词缀为重要节点"
   ]
  },
  {
   "cell_type": "code",
   "execution_count": 55,
   "metadata": {},
   "outputs": [
    {
     "data": {
      "text/plain": [
       "[('demo', 'demostration'), ('demo', 'demostate')]"
      ]
     },
     "execution_count": 55,
     "metadata": {},
     "output_type": "execute_result"
    }
   ],
   "source": [
    "G1 = nx.Graph()\n",
    "G1.add_weighted_edges_from([(\"demo\",\"demostration\",1),(\"demo\",\"demostate\",0)])\n",
    "list(G1.edges)"
   ]
  },
  {
   "cell_type": "code",
   "execution_count": 75,
   "metadata": {},
   "outputs": [
    {
     "data": {
      "text/plain": [
       "{'demo': Text(-0.3691786625340519, 0.6437582910179319, 'demo'),\n",
       " 'demostration': Text(-0.6308213374659482, 0.34325341039829554, 'demostration'),\n",
       " 'demostate': Text(1.0, -0.9870117014162273, 'demostate')}"
      ]
     },
     "execution_count": 75,
     "metadata": {},
     "output_type": "execute_result"
    },
    {
     "data": {
      "image/png": "[encoded data removed]",
      "text/plain": [
       "<Figure size 432x288 with 1 Axes>"
      ]
     },
     "metadata": {},
     "output_type": "display_data"
    }
   ],
   "source": [
    "pos = nx.spring_layout(G1)\n",
    "labels = dict((i,i) for i in G1.nodes())\n",
    "nx.draw_networkx_nodes(G1, pos,node_color=range(3),node_size=800,cmap=plt.cm.Blues)\n",
    "nx.draw_networkx_edges(G1, pos)\n",
    "nx.draw_networkx_edges(G1, pos,edgelist=[(\"demo\",\"demostration\")],width=8, alpha=0.5, edge_color='r')\n",
    "nx.draw_networkx_labels(G1,pos, labels, font_size=16)"
   ]
  },
  {
   "cell_type": "code",
   "execution_count": 76,
   "metadata": {},
   "outputs": [
    {
     "data": {
      "image/png": "[encoded data removed]",
      "text/plain": [
       "<Figure size 432x288 with 1 Axes>"
      ]
     },
     "metadata": {},
     "output_type": "display_data"
    }
   ],
   "source": [
    "nx.draw(G1,pos)"
   ]
  },
  {
   "cell_type": "code",
   "execution_count": 60,
   "metadata": {},
   "outputs": [
    {
     "data": {
      "text/plain": [
       "EdgeView([('demo', 'demostration'), ('demo', 'demostate')])"
      ]
     },
     "execution_count": 60,
     "metadata": {},
     "output_type": "execute_result"
    }
   ],
   "source": [
    "G1.edges()"
   ]
  },
  {
   "cell_type": "code",
   "execution_count": 61,
   "metadata": {},
   "outputs": [
    {
     "data": {
      "text/plain": [
       "NodeView(('demo', 'demostration', 'demostate'))"
      ]
     },
     "execution_count": 61,
     "metadata": {},
     "output_type": "execute_result"
    }
   ],
   "source": [
    "G1.nodes()"
   ]
  },
  {
   "cell_type": "code",
   "execution_count": 78,
   "metadata": {},
   "outputs": [
    {
     "name": "stdout",
     "output_type": "stream",
     "text": [
      "demo 2\n",
      "demostration {'weight': 1}\n",
      "demostate {'weight': 0}\n",
      "demostration 0\n",
      "demostate 0\n"
     ]
    }
   ],
   "source": [
    "for line in nx.generate_multiline_adjlist(G1):\n",
    "    print(line)"
   ]
  },
  {
   "cell_type": "code",
   "execution_count": 79,
   "metadata": {},
   "outputs": [
    {
     "name": "stdout",
     "output_type": "stream",
     "text": [
      "demo demostration demostate\n",
      "demostration\n",
      "demostate\n"
     ]
    }
   ],
   "source": [
    "for line in nx.generate_adjlist(G1):\n",
    "    print(line)"
   ]
  },
  {
   "cell_type": "code",
   "execution_count": 80,
   "metadata": {},
   "outputs": [
    {
     "name": "stdout",
     "output_type": "stream",
     "text": [
      "demo demostration {'weight': 1}\n",
      "demo demostate {'weight': 0}\n"
     ]
    }
   ],
   "source": [
    "for line in nx.generate_edgelist(G1):\n",
    "    print(line)"
   ]
  },
  {
   "cell_type": "code",
   "execution_count": 81,
   "metadata": {},
   "outputs": [
    {
     "name": "stdout",
     "output_type": "stream",
     "text": [
      "*vertices 3\n",
      "1 demo 0.0 0.0 ellipse\n",
      "2 demostration 0.0 0.0 ellipse\n",
      "3 demostate 0.0 0.0 ellipse\n",
      "*edges\n",
      "1 2 1\n",
      "1 3 0\n"
     ]
    }
   ],
   "source": [
    "for line in nx.generate_pajek(G1):\n",
    "    print(line)"
   ]
  },
  {
   "cell_type": "code",
   "execution_count": 82,
   "metadata": {},
   "outputs": [
    {
     "name": "stdout",
     "output_type": "stream",
     "text": [
      "graph [\n",
      "  node [\n",
      "    id 0\n",
      "    label \"demo\"\n",
      "  ]\n",
      "  node [\n",
      "    id 1\n",
      "    label \"demostration\"\n",
      "  ]\n",
      "  node [\n",
      "    id 2\n",
      "    label \"demostate\"\n",
      "  ]\n",
      "  edge [\n",
      "    source 0\n",
      "    target 1\n",
      "    weight 1\n",
      "  ]\n",
      "  edge [\n",
      "    source 0\n",
      "    target 2\n",
      "    weight 0\n",
      "  ]\n",
      "]\n"
     ]
    }
   ],
   "source": [
    "for line in nx.generate_gml(G1):\n",
    "    print(line)"
   ]
  },
  {
   "cell_type": "markdown",
   "metadata": {},
   "source": [
    "## nltk"
   ]
  },
  {
   "cell_type": "code",
   "execution_count": null,
   "metadata": {},
   "outputs": [],
   "source": [
    "df = pd.read_excel(\"word.xlsx\")"
   ]
  },
  {
   "cell_type": "code",
   "execution_count": null,
   "metadata": {},
   "outputs": [],
   "source": []
  }
 ],
 "metadata": {
  "kernelspec": {
   "display_name": "Python 3",
   "language": "python",
   "name": "python3"
  },
  "language_info": {
   "codemirror_mode": {
    "name": "ipython",
    "version": 3
   },
   "file_extension": ".py",
   "mimetype": "text/x-python",
   "name": "python",
   "nbconvert_exporter": "python",
   "pygments_lexer": "ipython3",
   "version": "3.7.3"
  }
 },
 "nbformat": 4,
 "nbformat_minor": 2
}
