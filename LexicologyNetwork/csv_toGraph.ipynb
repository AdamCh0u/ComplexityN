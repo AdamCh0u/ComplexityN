{
 "cells": [
  {
   "cell_type": "code",
   "execution_count": 7,
   "metadata": {
    "ExecuteTime": {
     "end_time": "2019-06-13T00:38:50.371675Z",
     "start_time": "2019-06-13T00:38:47.560789Z"
    }
   },
   "outputs": [],
   "source": [
    "import networkx as nx\n",
    "import numpy as np\n",
    "import matplotlib.pyplot as plt\n",
    "import pandas as pd\n",
    "import os\n",
    "import nltk\n",
    "import json\n",
    "import urllib.request\n",
    "import urllib.parse\n",
    "import requests\n",
    "import hashlib\n",
    "import time\n",
    "import json\n",
    "import random"
   ]
  },
  {
   "cell_type": "code",
   "execution_count": 69,
   "metadata": {
    "ExecuteTime": {
     "end_time": "2019-06-13T02:14:59.987367Z",
     "start_time": "2019-06-13T02:14:59.919318Z"
    }
   },
   "outputs": [
    {
     "data": {
      "text/html": [
       "<div>\n",
       "<style scoped>\n",
       "    .dataframe tbody tr th:only-of-type {\n",
       "        vertical-align: middle;\n",
       "    }\n",
       "\n",
       "    .dataframe tbody tr th {\n",
       "        vertical-align: top;\n",
       "    }\n",
       "\n",
       "    .dataframe thead th {\n",
       "        text-align: right;\n",
       "    }\n",
       "</style>\n",
       "<table border=\"1\" class=\"dataframe\">\n",
       "  <thead>\n",
       "    <tr style=\"text-align: right;\">\n",
       "      <th></th>\n",
       "      <th>word</th>\n",
       "      <th>tags</th>\n",
       "      <th>chinese</th>\n",
       "    </tr>\n",
       "    <tr>\n",
       "      <th>Unnamed: 0</th>\n",
       "      <th></th>\n",
       "      <th></th>\n",
       "      <th></th>\n",
       "    </tr>\n",
       "  </thead>\n",
       "  <tbody>\n",
       "    <tr>\n",
       "      <th>0</th>\n",
       "      <td>abandon</td>\n",
       "      <td>VERB</td>\n",
       "      <td>放弃</td>\n",
       "    </tr>\n",
       "    <tr>\n",
       "      <th>1</th>\n",
       "      <td>abase</td>\n",
       "      <td>INTJ</td>\n",
       "      <td>自卑</td>\n",
       "    </tr>\n",
       "    <tr>\n",
       "      <th>2</th>\n",
       "      <td>abash</td>\n",
       "      <td>VERB</td>\n",
       "      <td>使局促不安</td>\n",
       "    </tr>\n",
       "    <tr>\n",
       "      <th>3</th>\n",
       "      <td>abate</td>\n",
       "      <td>NOUN</td>\n",
       "      <td>减弱</td>\n",
       "    </tr>\n",
       "    <tr>\n",
       "      <th>4</th>\n",
       "      <td>abbreviate</td>\n",
       "      <td>ADJ</td>\n",
       "      <td>缩写</td>\n",
       "    </tr>\n",
       "    <tr>\n",
       "      <th>5</th>\n",
       "      <td>abdicate</td>\n",
       "      <td>VERB</td>\n",
       "      <td>退位</td>\n",
       "    </tr>\n",
       "    <tr>\n",
       "      <th>6</th>\n",
       "      <td>aberrant</td>\n",
       "      <td>ADJ</td>\n",
       "      <td>憎恶的</td>\n",
       "    </tr>\n",
       "    <tr>\n",
       "      <th>7</th>\n",
       "      <td>abet</td>\n",
       "      <td>NOUN</td>\n",
       "      <td>教唆</td>\n",
       "    </tr>\n",
       "    <tr>\n",
       "      <th>8</th>\n",
       "      <td>abeyance</td>\n",
       "      <td>NOUN</td>\n",
       "      <td>中止</td>\n",
       "    </tr>\n",
       "    <tr>\n",
       "      <th>9</th>\n",
       "      <td>abhor</td>\n",
       "      <td>ADJ</td>\n",
       "      <td>憎恶</td>\n",
       "    </tr>\n",
       "    <tr>\n",
       "      <th>10</th>\n",
       "      <td>abiding</td>\n",
       "      <td>VERB</td>\n",
       "      <td>持久的</td>\n",
       "    </tr>\n",
       "    <tr>\n",
       "      <th>11</th>\n",
       "      <td>abject</td>\n",
       "      <td>NOUN</td>\n",
       "      <td>可怜的</td>\n",
       "    </tr>\n",
       "    <tr>\n",
       "      <th>12</th>\n",
       "      <td>abjure</td>\n",
       "      <td>ADJ</td>\n",
       "      <td>发誓放弃</td>\n",
       "    </tr>\n",
       "    <tr>\n",
       "      <th>13</th>\n",
       "      <td>abnegate</td>\n",
       "      <td>VERB</td>\n",
       "      <td>放弃</td>\n",
       "    </tr>\n",
       "    <tr>\n",
       "      <th>14</th>\n",
       "      <td>abominate</td>\n",
       "      <td>VERB</td>\n",
       "      <td>痛恨</td>\n",
       "    </tr>\n",
       "    <tr>\n",
       "      <th>15</th>\n",
       "      <td>aboveboard</td>\n",
       "      <td>NOUN</td>\n",
       "      <td>光明正大的</td>\n",
       "    </tr>\n",
       "    <tr>\n",
       "      <th>16</th>\n",
       "      <td>abrade</td>\n",
       "      <td>NOUN</td>\n",
       "      <td>擦伤</td>\n",
       "    </tr>\n",
       "    <tr>\n",
       "      <th>17</th>\n",
       "      <td>abridge</td>\n",
       "      <td>VERB</td>\n",
       "      <td>缩短</td>\n",
       "    </tr>\n",
       "    <tr>\n",
       "      <th>18</th>\n",
       "      <td>abrogate</td>\n",
       "      <td>ADJ</td>\n",
       "      <td>废除</td>\n",
       "    </tr>\n",
       "    <tr>\n",
       "      <th>19</th>\n",
       "      <td>abscond</td>\n",
       "      <td>NOUN</td>\n",
       "      <td>潜逃</td>\n",
       "    </tr>\n",
       "    <tr>\n",
       "      <th>20</th>\n",
       "      <td>absolute</td>\n",
       "      <td>ADJ</td>\n",
       "      <td>绝对</td>\n",
       "    </tr>\n",
       "    <tr>\n",
       "      <th>21</th>\n",
       "      <td>absolve</td>\n",
       "      <td>NOUN</td>\n",
       "      <td>absolve</td>\n",
       "    </tr>\n",
       "    <tr>\n",
       "      <th>22</th>\n",
       "      <td>abstain</td>\n",
       "      <td>ADV</td>\n",
       "      <td>弃权</td>\n",
       "    </tr>\n",
       "    <tr>\n",
       "      <th>23</th>\n",
       "      <td>abstemious</td>\n",
       "      <td>ADJ</td>\n",
       "      <td>有节制的</td>\n",
       "    </tr>\n",
       "    <tr>\n",
       "      <th>24</th>\n",
       "      <td>abstract</td>\n",
       "      <td>ADJ</td>\n",
       "      <td>摘要</td>\n",
       "    </tr>\n",
       "    <tr>\n",
       "      <th>25</th>\n",
       "      <td>abstruse</td>\n",
       "      <td>NOUN</td>\n",
       "      <td>深奥的</td>\n",
       "    </tr>\n",
       "    <tr>\n",
       "      <th>26</th>\n",
       "      <td>absurd</td>\n",
       "      <td>ADJ</td>\n",
       "      <td>荒谬的</td>\n",
       "    </tr>\n",
       "    <tr>\n",
       "      <th>27</th>\n",
       "      <td>abundant</td>\n",
       "      <td>ADJ</td>\n",
       "      <td>丰富的</td>\n",
       "    </tr>\n",
       "    <tr>\n",
       "      <th>28</th>\n",
       "      <td>abuse</td>\n",
       "      <td>NOUN</td>\n",
       "      <td>滥用</td>\n",
       "    </tr>\n",
       "    <tr>\n",
       "      <th>29</th>\n",
       "      <td>abut</td>\n",
       "      <td>ADV</td>\n",
       "      <td>邻接</td>\n",
       "    </tr>\n",
       "    <tr>\n",
       "      <th>...</th>\n",
       "      <td>...</td>\n",
       "      <td>...</td>\n",
       "      <td>...</td>\n",
       "    </tr>\n",
       "    <tr>\n",
       "      <th>3041</th>\n",
       "      <td>temporal</td>\n",
       "      <td>ADJ</td>\n",
       "      <td>时间</td>\n",
       "    </tr>\n",
       "    <tr>\n",
       "      <th>3042</th>\n",
       "      <td>tentative</td>\n",
       "      <td>ADJ</td>\n",
       "      <td>试探性的</td>\n",
       "    </tr>\n",
       "    <tr>\n",
       "      <th>3043</th>\n",
       "      <td>thick-skinned</td>\n",
       "      <td>ADJ</td>\n",
       "      <td>麻木不仁的</td>\n",
       "    </tr>\n",
       "    <tr>\n",
       "      <th>3044</th>\n",
       "      <td>thrill</td>\n",
       "      <td>NOUN</td>\n",
       "      <td>兴奋</td>\n",
       "    </tr>\n",
       "    <tr>\n",
       "      <th>3045</th>\n",
       "      <td>timely</td>\n",
       "      <td>ADV</td>\n",
       "      <td>及时的</td>\n",
       "    </tr>\n",
       "    <tr>\n",
       "      <th>3046</th>\n",
       "      <td>topsy-turvy*</td>\n",
       "      <td>ADJ</td>\n",
       "      <td>乱七八糟的*</td>\n",
       "    </tr>\n",
       "    <tr>\n",
       "      <th>3047</th>\n",
       "      <td>trifle</td>\n",
       "      <td>ADV</td>\n",
       "      <td>蛋糕</td>\n",
       "    </tr>\n",
       "    <tr>\n",
       "      <th>3048</th>\n",
       "      <td>trifling</td>\n",
       "      <td>VERB</td>\n",
       "      <td>微不足道的</td>\n",
       "    </tr>\n",
       "    <tr>\n",
       "      <th>3049</th>\n",
       "      <td>tycoon</td>\n",
       "      <td>NOUN</td>\n",
       "      <td>大亨</td>\n",
       "    </tr>\n",
       "    <tr>\n",
       "      <th>3050</th>\n",
       "      <td>tyrant</td>\n",
       "      <td>NOUN</td>\n",
       "      <td>暴君</td>\n",
       "    </tr>\n",
       "    <tr>\n",
       "      <th>3051</th>\n",
       "      <td>umbrage</td>\n",
       "      <td>NOUN</td>\n",
       "      <td>不快</td>\n",
       "    </tr>\n",
       "    <tr>\n",
       "      <th>3052</th>\n",
       "      <td>unanimous</td>\n",
       "      <td>ADJ</td>\n",
       "      <td>一致</td>\n",
       "    </tr>\n",
       "    <tr>\n",
       "      <th>3053</th>\n",
       "      <td>unavailing</td>\n",
       "      <td>VERB</td>\n",
       "      <td>无效的</td>\n",
       "    </tr>\n",
       "    <tr>\n",
       "      <th>3054</th>\n",
       "      <td>unremitting</td>\n",
       "      <td>NOUN</td>\n",
       "      <td>不懈的</td>\n",
       "    </tr>\n",
       "    <tr>\n",
       "      <th>3055</th>\n",
       "      <td>versed</td>\n",
       "      <td>VERB</td>\n",
       "      <td>工</td>\n",
       "    </tr>\n",
       "    <tr>\n",
       "      <th>3056</th>\n",
       "      <td>vile</td>\n",
       "      <td>ADJ</td>\n",
       "      <td>卑鄙的</td>\n",
       "    </tr>\n",
       "    <tr>\n",
       "      <th>3057</th>\n",
       "      <td>vocation</td>\n",
       "      <td>NOUN</td>\n",
       "      <td>职业</td>\n",
       "    </tr>\n",
       "    <tr>\n",
       "      <th>3058</th>\n",
       "      <td>vouchsafe</td>\n",
       "      <td>NOUN</td>\n",
       "      <td>允诺</td>\n",
       "    </tr>\n",
       "    <tr>\n",
       "      <th>3059</th>\n",
       "      <td>voyeur</td>\n",
       "      <td>NOUN</td>\n",
       "      <td>偷窥狂</td>\n",
       "    </tr>\n",
       "    <tr>\n",
       "      <th>3060</th>\n",
       "      <td>wanting</td>\n",
       "      <td>VERB</td>\n",
       "      <td>想要</td>\n",
       "    </tr>\n",
       "    <tr>\n",
       "      <th>3061</th>\n",
       "      <td>wayward</td>\n",
       "      <td>ADJ</td>\n",
       "      <td>任性的</td>\n",
       "    </tr>\n",
       "    <tr>\n",
       "      <th>3062</th>\n",
       "      <td>weather</td>\n",
       "      <td>NOUN</td>\n",
       "      <td>天气</td>\n",
       "    </tr>\n",
       "    <tr>\n",
       "      <th>3063</th>\n",
       "      <td>willful</td>\n",
       "      <td>ADJ</td>\n",
       "      <td>任性的</td>\n",
       "    </tr>\n",
       "    <tr>\n",
       "      <th>3064</th>\n",
       "      <td>willy-nilly</td>\n",
       "      <td>ADV</td>\n",
       "      <td>不管愿不愿意地</td>\n",
       "    </tr>\n",
       "    <tr>\n",
       "      <th>3065</th>\n",
       "      <td>wilt</td>\n",
       "      <td>NOUN</td>\n",
       "      <td>必</td>\n",
       "    </tr>\n",
       "    <tr>\n",
       "      <th>3066</th>\n",
       "      <td>wily</td>\n",
       "      <td>ADJ</td>\n",
       "      <td>狡猾的</td>\n",
       "    </tr>\n",
       "    <tr>\n",
       "      <th>3067</th>\n",
       "      <td>wiretap</td>\n",
       "      <td>NOUN</td>\n",
       "      <td>窃听</td>\n",
       "    </tr>\n",
       "    <tr>\n",
       "      <th>3068</th>\n",
       "      <td>wistful</td>\n",
       "      <td>ADJ</td>\n",
       "      <td>渴望的</td>\n",
       "    </tr>\n",
       "    <tr>\n",
       "      <th>3069</th>\n",
       "      <td>wrest</td>\n",
       "      <td>ADJ</td>\n",
       "      <td>夺取</td>\n",
       "    </tr>\n",
       "    <tr>\n",
       "      <th>3070</th>\n",
       "      <td>wrongheaded</td>\n",
       "      <td>VERB</td>\n",
       "      <td>错误的</td>\n",
       "    </tr>\n",
       "  </tbody>\n",
       "</table>\n",
       "<p>3071 rows × 3 columns</p>\n",
       "</div>"
      ],
      "text/plain": [
       "                     word  tags  chinese\n",
       "Unnamed: 0                              \n",
       "0                 abandon  VERB       放弃\n",
       "1                   abase  INTJ       自卑\n",
       "2                   abash  VERB    使局促不安\n",
       "3                   abate  NOUN       减弱\n",
       "4              abbreviate   ADJ       缩写\n",
       "5                abdicate  VERB       退位\n",
       "6                aberrant   ADJ      憎恶的\n",
       "7                    abet  NOUN       教唆\n",
       "8                abeyance  NOUN       中止\n",
       "9                   abhor   ADJ       憎恶\n",
       "10                abiding  VERB      持久的\n",
       "11                 abject  NOUN      可怜的\n",
       "12                 abjure   ADJ     发誓放弃\n",
       "13               abnegate  VERB       放弃\n",
       "14              abominate  VERB       痛恨\n",
       "15             aboveboard  NOUN    光明正大的\n",
       "16                 abrade  NOUN       擦伤\n",
       "17                abridge  VERB       缩短\n",
       "18               abrogate   ADJ       废除\n",
       "19                abscond  NOUN       潜逃\n",
       "20               absolute   ADJ       绝对\n",
       "21                absolve  NOUN  absolve\n",
       "22                abstain   ADV       弃权\n",
       "23             abstemious   ADJ     有节制的\n",
       "24               abstract   ADJ       摘要\n",
       "25               abstruse  NOUN      深奥的\n",
       "26                 absurd   ADJ      荒谬的\n",
       "27               abundant   ADJ      丰富的\n",
       "28                  abuse  NOUN       滥用\n",
       "29                   abut   ADV       邻接\n",
       "...                   ...   ...      ...\n",
       "3041             temporal   ADJ       时间\n",
       "3042            tentative   ADJ     试探性的\n",
       "3043        thick-skinned   ADJ    麻木不仁的\n",
       "3044               thrill  NOUN       兴奋\n",
       "3045               timely   ADV      及时的\n",
       "3046         topsy-turvy*   ADJ   乱七八糟的*\n",
       "3047               trifle   ADV       蛋糕\n",
       "3048             trifling  VERB    微不足道的\n",
       "3049               tycoon  NOUN       大亨\n",
       "3050               tyrant  NOUN       暴君\n",
       "3051              umbrage  NOUN       不快\n",
       "3052            unanimous   ADJ       一致\n",
       "3053           unavailing  VERB      无效的\n",
       "3054          unremitting  NOUN      不懈的\n",
       "3055               versed  VERB        工\n",
       "3056                 vile   ADJ      卑鄙的\n",
       "3057             vocation  NOUN       职业\n",
       "3058            vouchsafe  NOUN       允诺\n",
       "3059               voyeur  NOUN      偷窥狂\n",
       "3060              wanting  VERB       想要\n",
       "3061              wayward   ADJ      任性的\n",
       "3062              weather  NOUN       天气\n",
       "3063              willful   ADJ      任性的\n",
       "3064          willy-nilly   ADV  不管愿不愿意地\n",
       "3065                 wilt  NOUN        必\n",
       "3066                 wily   ADJ      狡猾的\n",
       "3067              wiretap  NOUN       窃听\n",
       "3068              wistful   ADJ      渴望的\n",
       "3069                wrest   ADJ       夺取\n",
       "3070          wrongheaded  VERB      错误的\n",
       "\n",
       "[3071 rows x 3 columns]"
      ]
     },
     "execution_count": 69,
     "metadata": {},
     "output_type": "execute_result"
    }
   ],
   "source": [
    "df = pd.read_csv(\"demo.csv\")\n",
    "df = df.set_index('Unnamed: 0')\n",
    "df"
   ]
  },
  {
   "cell_type": "code",
   "execution_count": 34,
   "metadata": {
    "ExecuteTime": {
     "end_time": "2019-06-12T12:44:27.740798Z",
     "start_time": "2019-06-12T12:44:27.731789Z"
    }
   },
   "outputs": [],
   "source": [
    "def find_word(df,vaca):\n",
    "    for i,word in dict(df.loc[:,\"word\"]).items():\n",
    "        if vaca == word:\n",
    "            return i\n",
    "def find_chinese(df,vaca):\n",
    "    a=[]\n",
    "    for i,chinese in dict(df.loc[:,\"chinese\"]).items():\n",
    "        if vaca == chinese:\n",
    "            a.append(i)\n",
    "    return a"
   ]
  },
  {
   "cell_type": "code",
   "execution_count": 30,
   "metadata": {
    "ExecuteTime": {
     "end_time": "2019-06-12T12:43:20.190802Z",
     "start_time": "2019-06-12T12:43:20.131258Z"
    }
   },
   "outputs": [
    {
     "data": {
      "text/plain": [
       "26"
      ]
     },
     "execution_count": 30,
     "metadata": {},
     "output_type": "execute_result"
    }
   ],
   "source": [
    "find_word(df,\"absurd\")"
   ]
  },
  {
   "cell_type": "code",
   "execution_count": 48,
   "metadata": {
    "ExecuteTime": {
     "end_time": "2019-06-12T13:00:49.195139Z",
     "start_time": "2019-06-12T13:00:49.125088Z"
    },
    "scrolled": true
   },
   "outputs": [
    {
     "name": "stdout",
     "output_type": "stream",
     "text": [
      "abandon\n",
      "abnegate\n",
      "cede\n",
      "recant\n",
      "relinquish\n",
      "renounce\n"
     ]
    }
   ],
   "source": [
    "for i in find_chinese(df,\"放弃\"):\n",
    "    print(df.iloc[i,0])"
   ]
  },
  {
   "cell_type": "code",
   "execution_count": 27,
   "metadata": {
    "ExecuteTime": {
     "end_time": "2019-06-12T12:39:13.488802Z",
     "start_time": "2019-06-12T12:39:13.466787Z"
    },
    "collapsed": true
   },
   "outputs": [
    {
     "data": {
      "text/plain": [
       "嘲笑        6\n",
       "放弃        6\n",
       "安抚        5\n",
       "有害的       5\n",
       "满足        4\n",
       "刺激        4\n",
       "保留        4\n",
       "讽刺        4\n",
       "支持        4\n",
       "挑剔的       4\n",
       "抑制        4\n",
       "狡猾的       4\n",
       "虚假的       4\n",
       "谴责        4\n",
       "限制        4\n",
       "责备        4\n",
       "精明的       4\n",
       "微不足道的     4\n",
       "缺乏        4\n",
       "过时的       4\n",
       "贪婪的       4\n",
       "掩饰        3\n",
       "谨慎的       3\n",
       "谩骂        3\n",
       "冷漠        3\n",
       "开玩笑       3\n",
       "混乱        3\n",
       "傲慢的       3\n",
       "诡计        3\n",
       "漫步        3\n",
       "         ..\n",
       "精选        1\n",
       "冲洗        1\n",
       "遣返        1\n",
       "慷慨        1\n",
       "响应        1\n",
       "barb      1\n",
       "总         1\n",
       "揭穿        1\n",
       "简朴的       1\n",
       "镇定的       1\n",
       "矛盾        1\n",
       "沙沙声       1\n",
       "半流体的      1\n",
       "不计后果的     1\n",
       "感到极度痛苦    1\n",
       "麻醉        1\n",
       "支吾其辞      1\n",
       "密谋       1\n",
       "游览名胜      1\n",
       "预谋        1\n",
       "稀疏的       1\n",
       "飘渺的       1\n",
       "装饰图案      1\n",
       "探针        1\n",
       "使无效       1\n",
       "夜魔侠       1\n",
       "告别演说      1\n",
       "易犯错误的     1\n",
       "责骂        1\n",
       "兼职        1\n",
       "Length: 2649, dtype: int64"
      ]
     },
     "execution_count": 27,
     "metadata": {},
     "output_type": "execute_result"
    }
   ],
   "source": [
    "result = pd.value_counts(list(df.loc[:,\"chinese\"]))\n",
    "result"
   ]
  },
  {
   "cell_type": "markdown",
   "metadata": {},
   "source": [
    "## Build network"
   ]
  },
  {
   "cell_type": "code",
   "execution_count": 125,
   "metadata": {
    "ExecuteTime": {
     "end_time": "2019-06-13T03:00:42.792991Z",
     "start_time": "2019-06-13T03:00:41.905302Z"
    },
    "scrolled": true
   },
   "outputs": [],
   "source": [
    "G=nx.Graph()\n",
    "G = df_addNode(df)\n",
    "# len(list(G.nodes))"
   ]
  },
  {
   "cell_type": "code",
   "execution_count": 65,
   "metadata": {
    "ExecuteTime": {
     "end_time": "2019-06-13T01:18:37.339346Z",
     "start_time": "2019-06-13T01:18:37.332838Z"
    }
   },
   "outputs": [],
   "source": [
    "def df_addNode(df):\n",
    "    for i in range(df.shape[0]):\n",
    "        a = list(dict(df.iloc[i,:]).values())\n",
    "        a.insert(0, i)\n",
    "        Node = tuple(a)\n",
    "        G.add_node(Node)\n",
    "    return G"
   ]
  },
  {
   "cell_type": "code",
   "execution_count": 120,
   "metadata": {
    "ExecuteTime": {
     "end_time": "2019-06-13T02:59:34.168374Z",
     "start_time": "2019-06-13T02:59:34.162371Z"
    }
   },
   "outputs": [
    {
     "data": {
      "text/plain": [
       "3071"
      ]
     },
     "execution_count": 120,
     "metadata": {},
     "output_type": "execute_result"
    }
   ],
   "source": [
    "len(G.nodes())"
   ]
  },
  {
   "cell_type": "markdown",
   "metadata": {},
   "source": [
    "#### 根据属性构建网络\n"
   ]
  },
  {
   "cell_type": "code",
   "execution_count": 126,
   "metadata": {
    "ExecuteTime": {
     "end_time": "2019-06-13T03:00:44.744344Z",
     "start_time": "2019-06-13T03:00:44.698809Z"
    }
   },
   "outputs": [],
   "source": [
    "Chinese = []\n",
    "for k,v in dict(pd.value_counts(df.iloc[:,2])).items():\n",
    "    if v>2:\n",
    "        Chinese.append(k)\n",
    "Pos = list(dict(pd.value_counts(df.iloc[:,1])).keys())\n"
   ]
  },
  {
   "cell_type": "code",
   "execution_count": 130,
   "metadata": {
    "ExecuteTime": {
     "end_time": "2019-06-13T03:02:24.894707Z",
     "start_time": "2019-06-13T03:02:24.887201Z"
    }
   },
   "outputs": [
    {
     "data": {
      "text/plain": [
       "3158"
      ]
     },
     "execution_count": 130,
     "metadata": {},
     "output_type": "execute_result"
    }
   ],
   "source": [
    "G.add_nodes_from(Chinese)\n",
    "G.add_nodes_from(Pos)\n",
    "len(G.nodes())"
   ]
  },
  {
   "cell_type": "code",
   "execution_count": 131,
   "metadata": {
    "ExecuteTime": {
     "end_time": "2019-06-13T03:02:29.141004Z",
     "start_time": "2019-06-13T03:02:27.622717Z"
    }
   },
   "outputs": [],
   "source": [
    "for i in range(3070):\n",
    "    if list(G.nodes())[i][2] in list(G.nodes()):\n",
    "        G.add_edge(list(G.nodes())[i],list(G.nodes())[i][2],weight= 2)\n",
    "    if list(G.nodes())[i][3] in list(G.nodes()):\n",
    "        G.add_edge(list(G.nodes())[i],list(G.nodes())[i][3],weight= 3)   "
   ]
  },
  {
   "cell_type": "code",
   "execution_count": 133,
   "metadata": {
    "ExecuteTime": {
     "end_time": "2019-06-13T03:02:32.405889Z",
     "start_time": "2019-06-13T03:02:32.258231Z"
    }
   },
   "outputs": [],
   "source": [
    "nx.write_graphml(G, \"test.graphml\")"
   ]
  },
  {
   "cell_type": "code",
   "execution_count": 132,
   "metadata": {
    "ExecuteTime": {
     "end_time": "2019-06-13T03:02:30.097210Z",
     "start_time": "2019-06-13T03:02:30.091708Z"
    }
   },
   "outputs": [
    {
     "data": {
      "text/plain": [
       "3158"
      ]
     },
     "execution_count": 132,
     "metadata": {},
     "output_type": "execute_result"
    }
   ],
   "source": [
    "len(G.nodes())"
   ]
  },
  {
   "cell_type": "code",
   "execution_count": null,
   "metadata": {},
   "outputs": [],
   "source": []
  }
 ],
 "metadata": {
  "kernelspec": {
   "display_name": "Python 3",
   "language": "python",
   "name": "python3"
  },
  "language_info": {
   "codemirror_mode": {
    "name": "ipython",
    "version": 3
   },
   "file_extension": ".py",
   "mimetype": "text/x-python",
   "name": "python",
   "nbconvert_exporter": "python",
   "pygments_lexer": "ipython3",
   "version": "3.7.3"
  },
  "toc": {
   "base_numbering": 1,
   "nav_menu": {},
   "number_sections": true,
   "sideBar": true,
   "skip_h1_title": false,
   "title_cell": "Table of Contents",
   "title_sidebar": "Contents",
   "toc_cell": false,
   "toc_position": {},
   "toc_section_display": true,
   "toc_window_display": true
  }
 },
 "nbformat": 4,
 "nbformat_minor": 2
}
